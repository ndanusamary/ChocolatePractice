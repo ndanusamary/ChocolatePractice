{
 "cells": [
  {
   "cell_type": "markdown",
   "id": "87b7fe67",
   "metadata": {},
   "source": [
    "1. Data Cleaning & Exploration"
   ]
  },
  {
   "cell_type": "markdown",
   "id": "8291ef22",
   "metadata": {},
   "source": [
    " - Loading the dataset"
   ]
  },
  {
   "cell_type": "code",
   "execution_count": null,
   "id": "4aa41ede",
   "metadata": {},
   "outputs": [],
   "source": [
    "import pandas as pd\n",
    "df = pd.read_csv('Chocolate Sales.csv')\n",
    "df"
   ]
  },
  {
   "cell_type": "markdown",
   "id": "4f0ba8ff",
   "metadata": {},
   "source": [
    "- Checking basic information"
   ]
  },
  {
   "cell_type": "code",
   "execution_count": null,
   "id": "81b5c3f0",
   "metadata": {},
   "outputs": [],
   "source": [
    "# Number of rows and columns\n",
    "df.shape"
   ]
  },
  {
   "cell_type": "code",
   "execution_count": null,
   "id": "84d36200",
   "metadata": {},
   "outputs": [],
   "source": [
    "# Data types and missing values\n",
    "df.info()"
   ]
  },
  {
   "cell_type": "markdown",
   "id": "9a3f41cc",
   "metadata": {},
   "source": [
    "- Preview the data"
   ]
  },
  {
   "cell_type": "code",
   "execution_count": null,
   "id": "17245573",
   "metadata": {},
   "outputs": [],
   "source": [
    "# First 5 rows\n",
    "df.head()"
   ]
  },
  {
   "cell_type": "code",
   "execution_count": 45,
   "id": "0da70b5e",
   "metadata": {},
   "outputs": [
    {
     "data": {
      "text/html": [
       "<div>\n",
       "<style scoped>\n",
       "    .dataframe tbody tr th:only-of-type {\n",
       "        vertical-align: middle;\n",
       "    }\n",
       "\n",
       "    .dataframe tbody tr th {\n",
       "        vertical-align: top;\n",
       "    }\n",
       "\n",
       "    .dataframe thead th {\n",
       "        text-align: right;\n",
       "    }\n",
       "</style>\n",
       "<table border=\"1\" class=\"dataframe\">\n",
       "  <thead>\n",
       "    <tr style=\"text-align: right;\">\n",
       "      <th></th>\n",
       "      <th>Sales Person</th>\n",
       "      <th>Country</th>\n",
       "      <th>Product</th>\n",
       "      <th>Date</th>\n",
       "      <th>Amount</th>\n",
       "      <th>Boxes Shipped</th>\n",
       "    </tr>\n",
       "  </thead>\n",
       "  <tbody>\n",
       "    <tr>\n",
       "      <th>1089</th>\n",
       "      <td>Karlen McCaffrey</td>\n",
       "      <td>Australia</td>\n",
       "      <td>Spicy Special Slims</td>\n",
       "      <td>2022-05-17</td>\n",
       "      <td>$4,410</td>\n",
       "      <td>323</td>\n",
       "    </tr>\n",
       "    <tr>\n",
       "      <th>1090</th>\n",
       "      <td>Jehu Rudeforth</td>\n",
       "      <td>USA</td>\n",
       "      <td>White Choc</td>\n",
       "      <td>2022-06-07</td>\n",
       "      <td>$6,559</td>\n",
       "      <td>119</td>\n",
       "    </tr>\n",
       "    <tr>\n",
       "      <th>1091</th>\n",
       "      <td>Ches Bonnell</td>\n",
       "      <td>Canada</td>\n",
       "      <td>Organic Choco Syrup</td>\n",
       "      <td>2022-07-26</td>\n",
       "      <td>$574</td>\n",
       "      <td>217</td>\n",
       "    </tr>\n",
       "    <tr>\n",
       "      <th>1092</th>\n",
       "      <td>Dotty Strutley</td>\n",
       "      <td>India</td>\n",
       "      <td>Eclairs</td>\n",
       "      <td>2022-07-28</td>\n",
       "      <td>$2,086</td>\n",
       "      <td>384</td>\n",
       "    </tr>\n",
       "    <tr>\n",
       "      <th>1093</th>\n",
       "      <td>Karlen McCaffrey</td>\n",
       "      <td>India</td>\n",
       "      <td>70% Dark Bites</td>\n",
       "      <td>2022-05-23</td>\n",
       "      <td>$5,075</td>\n",
       "      <td>344</td>\n",
       "    </tr>\n",
       "  </tbody>\n",
       "</table>\n",
       "</div>"
      ],
      "text/plain": [
       "          Sales Person    Country              Product       Date   Amount  \\\n",
       "1089  Karlen McCaffrey  Australia  Spicy Special Slims 2022-05-17  $4,410    \n",
       "1090    Jehu Rudeforth        USA           White Choc 2022-06-07  $6,559    \n",
       "1091      Ches Bonnell     Canada  Organic Choco Syrup 2022-07-26    $574    \n",
       "1092    Dotty Strutley      India              Eclairs 2022-07-28  $2,086    \n",
       "1093  Karlen McCaffrey      India       70% Dark Bites 2022-05-23  $5,075    \n",
       "\n",
       "      Boxes Shipped  \n",
       "1089            323  \n",
       "1090            119  \n",
       "1091            217  \n",
       "1092            384  \n",
       "1093            344  "
      ]
     },
     "execution_count": 45,
     "metadata": {},
     "output_type": "execute_result"
    }
   ],
   "source": [
    "# Last 5 rows\n",
    "df.tail()"
   ]
  },
  {
   "cell_type": "code",
   "execution_count": null,
   "id": "3917a03f",
   "metadata": {},
   "outputs": [],
   "source": [
    "# Remove $ sign\n",
    "#df['Amount'] = df['Amount'].replace({'\\$': ''}, regex=True)\n",
    "\n",
    "# Remove , sign and convert to float\n",
    "df['Amount'] = df['Amount'].replace({',': ''}, regex=True).astype(float)\n",
    "df"
   ]
  },
  {
   "cell_type": "code",
   "execution_count": null,
   "id": "a7017e48",
   "metadata": {},
   "outputs": [],
   "source": [
    "# Convert 'Date' to datetime format\n",
    "df['Date'] = pd.to_datetime(df['Date'])"
   ]
  },
  {
   "cell_type": "markdown",
   "id": "e42117fe",
   "metadata": {},
   "source": [
    "2.  Descriptive Statistics"
   ]
  },
  {
   "cell_type": "code",
   "execution_count": null,
   "id": "fc89796b",
   "metadata": {},
   "outputs": [],
   "source": [
    "#What is the total sales amount?\n",
    "total_sales = df['Amount'].sum()\n",
    "print(f\"Total sales amount: {total_sales}\")\n"
   ]
  },
  {
   "cell_type": "code",
   "execution_count": 148,
   "id": "727d6989",
   "metadata": {},
   "outputs": [
    {
     "name": "stdout",
     "output_type": "stream",
     "text": [
      "Average amount per sale: 5652.308043875685\n"
     ]
    }
   ],
   "source": [
    "#What is the average amount per sale?\n",
    "average_sale = df['Amount'].mean()\n",
    "print(f\"Average amount per sale: {average_sale}\")"
   ]
  },
  {
   "cell_type": "code",
   "execution_count": 67,
   "id": "3017b71c",
   "metadata": {},
   "outputs": [
    {
     "name": "stdout",
     "output_type": "stream",
     "text": [
      "Total number of boxes shipped: 177007\n"
     ]
    }
   ],
   "source": [
    "#What is the total number of boxes shipped?\n",
    "total_boxes = df['Boxes Shipped'].sum()\n",
    "print(f'Total number of boxes shipped: {total_boxes}')"
   ]
  },
  {
   "cell_type": "code",
   "execution_count": 68,
   "id": "14786fa2",
   "metadata": {},
   "outputs": [
    {
     "name": "stdout",
     "output_type": "stream",
     "text": [
      "Unique Sales People: 25\n"
     ]
    }
   ],
   "source": [
    "#How many unique salespeople are there?\n",
    "unique_salespeople = df['Sales Person'].nunique()\n",
    "print(f'Unique Sales People: {unique_salespeople}')"
   ]
  },
  {
   "cell_type": "markdown",
   "id": "5a0e3bdb",
   "metadata": {},
   "source": [
    "GROUPING AND AGGREGATION"
   ]
  },
  {
   "cell_type": "code",
   "execution_count": null,
   "id": "be264885",
   "metadata": {},
   "outputs": [],
   "source": [
    "#Total sales by country\n",
    "sales_by_country = df.groupby('Country')['Amount'].sum()\n",
    "sales_by_country"
   ]
  },
  {
   "cell_type": "code",
   "execution_count": null,
   "id": "248ee0f5",
   "metadata": {},
   "outputs": [],
   "source": [
    "#Total sales by product\n",
    "sales_by_product = df.groupby('Product')['Amount'].sum()\n",
    "sales_by_product"
   ]
  },
  {
   "cell_type": "code",
   "execution_count": null,
   "id": "653eba2b",
   "metadata": {},
   "outputs": [],
   "source": [
    "#Which salesperson made the most sales (by amount)?\n",
    "top_salesperson = df.groupby('Sales Person')['Amount'].sum().idxmax()\n",
    "print(f\"Salesperson with the most sales: {top_salesperson}\")"
   ]
  },
  {
   "cell_type": "code",
   "execution_count": 145,
   "id": "b9b1459e",
   "metadata": {},
   "outputs": [
    {
     "name": "stdout",
     "output_type": "stream",
     "text": [
      "The salesperson with the least sales is Wilone O'Kielt with a total of $138523.00\n"
     ]
    }
   ],
   "source": [
    "# Group sales by salesperson and sum the sales amount\n",
    "sales_by_salesperson = df.groupby('Sales Person')['Amount'].sum()\n",
    "\n",
    "# Find the salesperson with the least sales\n",
    "least_salesperson = sales_by_salesperson.idxmin()  # Name of the salesperson with the least sales\n",
    "least_sales_amount = sales_by_salesperson.min()    # Sales amount of the least performing salesperson\n",
    "\n",
    "# Display the result\n",
    "print(f\"The salesperson with the least sales is {least_salesperson} with a total of ${least_sales_amount:.2f}\")\n"
   ]
  },
  {
   "cell_type": "code",
   "execution_count": null,
   "id": "6bed72e0",
   "metadata": {},
   "outputs": [],
   "source": [
    "#Total boxes shipped by each salesperson\n",
    "boxes_by_salesperson = df.groupby('Sales Person')['Boxes Shipped'].sum()\n",
    "boxes_by_salesperson\n"
   ]
  },
  {
   "cell_type": "code",
   "execution_count": 146,
   "id": "c0416c3d",
   "metadata": {},
   "outputs": [
    {
     "name": "stdout",
     "output_type": "stream",
     "text": [
      "Month\n",
      "2022-01    896105.0\n",
      "2022-02    699377.0\n",
      "2022-03    749483.0\n",
      "2022-04    674051.0\n",
      "2022-05    752892.0\n",
      "2022-06    865144.0\n",
      "2022-07    803425.0\n",
      "2022-08    743148.0\n",
      "Freq: M, Name: Amount, dtype: float64\n"
     ]
    }
   ],
   "source": [
    "#Monthly total sales\n",
    "\n",
    "df['Month'] = df['Date'].dt.to_period('M')\n",
    "monthly_sales = df.groupby('Month')['Amount'].sum()\n",
    "print(monthly_sales)"
   ]
  },
  {
   "cell_type": "markdown",
   "id": "21efb719",
   "metadata": {},
   "source": [
    "FILTERING AND SORTING"
   ]
  },
  {
   "cell_type": "code",
   "execution_count": null,
   "id": "291ca22c",
   "metadata": {},
   "outputs": [],
   "source": [
    "#Find all sales made in a specific country, e.g., 'USA\n",
    "\n",
    "sales_usa = df[df['Country'] == 'USA']\n",
    "sales_usa"
   ]
  },
  {
   "cell_type": "code",
   "execution_count": 134,
   "id": "efc22e1a",
   "metadata": {},
   "outputs": [
    {
     "name": "stdout",
     "output_type": "stream",
     "text": [
      "Total sales in the USA:\n",
      "Amount           950418.0\n",
      "Boxes Shipped     26580.0\n",
      "dtype: float64\n"
     ]
    }
   ],
   "source": [
    "Total_usa_sales = df[df['Country'] == 'New Zealand'][['Amount', 'Boxes Shipped']].sum()\n",
    "print(\"Total sales in the USA:\")\n",
    "print(Total_usa_sales)\n"
   ]
  },
  {
   "cell_type": "code",
   "execution_count": 136,
   "id": "346062c9",
   "metadata": {},
   "outputs": [
    {
     "name": "stdout",
     "output_type": "stream",
     "text": [
      "Total sales in the USA:\n",
      "Amount           962899.0\n",
      "Boxes Shipped     31221.0\n",
      "dtype: float64\n"
     ]
    }
   ],
   "source": [
    "Total_usa_sales = df[df['Country'] == 'Canada'][['Amount', 'Boxes Shipped']].sum()\n",
    "print(\"Total sales in the USA:\")\n",
    "print(Total_usa_sales)"
   ]
  },
  {
   "cell_type": "code",
   "execution_count": null,
   "id": "c1b5155f",
   "metadata": {},
   "outputs": [],
   "source": [
    "#Find all sales of Peanut Butter Cubes\n",
    "PeanutButterCubes = df[df['Product'] == 'Peanut Butter Cubes']\n",
    "PeanutButterCubes"
   ]
  },
  {
   "cell_type": "code",
   "execution_count": null,
   "id": "adb44d30",
   "metadata": {},
   "outputs": [],
   "source": [
    "#Find the top 5 highest value sales\n",
    "top_5_sales = df.nlargest(5, 'Amount')\n",
    "top_5_sales"
   ]
  },
  {
   "cell_type": "code",
   "execution_count": null,
   "id": "e409943b",
   "metadata": {},
   "outputs": [],
   "source": [
    "#Find sales where more than 100 boxes were shipped\n",
    "large_shipment_sales = df[df['Boxes Shipped'] > 100]\n",
    "large_shipment_sales"
   ]
  },
  {
   "cell_type": "markdown",
   "id": "41e9c668",
   "metadata": {},
   "source": [
    "VISUALIZATION"
   ]
  },
  {
   "cell_type": "code",
   "execution_count": null,
   "id": "8357d648",
   "metadata": {},
   "outputs": [],
   "source": [
    "pip install matplotlib"
   ]
  },
  {
   "cell_type": "code",
   "execution_count": 95,
   "id": "bff8d6f4",
   "metadata": {},
   "outputs": [],
   "source": [
    "import matplotlib.pyplot as plt"
   ]
  },
  {
   "cell_type": "code",
   "execution_count": 125,
   "id": "bd2c82d7",
   "metadata": {},
   "outputs": [
    {
     "data": {
      "image/png": "[encoded data removed]",
      "text/plain": [
       "<Figure size 640x480 with 1 Axes>"
      ]
     },
     "metadata": {},
     "output_type": "display_data"
    }
   ],
   "source": [
    "#Bar chart of total sales by country\n",
    "\n",
    "sales_by_country = df.groupby('Country')['Amount'].sum()\n",
    "sales_by_country.plot(kind='bar')\n",
    "plt.title('Total Sales by Country')\n",
    "plt.ylabel('Sales Amount')\n",
    "plt.show()\n"
   ]
  },
  {
   "cell_type": "code",
   "execution_count": null,
   "id": "b2925030",
   "metadata": {},
   "outputs": [],
   "source": [
    "#Line chart of monthly sales trends\n",
    "\n",
    "monthly_sales = df.groupby('Month')['Amount'].sum()\n",
    "monthly_sales.plot(kind='line')\n",
    "plt.title('Monthly Sales Trends')\n",
    "plt.ylabel('Sales Amount')\n",
    "plt.show()\n"
   ]
  },
  {
   "cell_type": "code",
   "execution_count": null,
   "id": "c1539f15",
   "metadata": {},
   "outputs": [],
   "source": [
    "#Histogram of sale amounts\n",
    "\n",
    "df['Amount'].plot(kind='hist', bins=20)\n",
    "plt.title('Distribution of Sale Amounts')\n",
    "plt.xlabel('Amount')\n",
    "plt.show()\n"
   ]
  },
  {
   "cell_type": "code",
   "execution_count": 102,
   "id": "ebbec594",
   "metadata": {},
   "outputs": [],
   "source": [
    "#pip install seaborn\n",
    "import seaborn as sns"
   ]
  },
  {
   "cell_type": "code",
   "execution_count": null,
   "id": "781fc39c",
   "metadata": {},
   "outputs": [],
   "source": [
    "#Box plot of amount by product\n",
    "\n",
    "sns.boxplot(x='Product', y='Amount', data=df)\n",
    "plt.title('Sale Amount by Product')\n",
    "plt.show()\n"
   ]
  },
  {
   "cell_type": "markdown",
   "id": "2212a3a5",
   "metadata": {},
   "source": [
    "GENERATE INSIGHTS"
   ]
  },
  {
   "cell_type": "code",
   "execution_count": 124,
   "id": "e4f2a000",
   "metadata": {},
   "outputs": [
    {
     "name": "stdout",
     "output_type": "stream",
     "text": [
      "Top countries by sales:\n"
     ]
    },
    {
     "data": {
      "text/plain": [
       "Country\n",
       "Australia      1137367.0\n",
       "UK             1051792.0\n",
       "India          1045800.0\n",
       "USA            1035349.0\n",
       "Canada          962899.0\n",
       "New Zealand     950418.0\n",
       "Name: Amount, dtype: float64"
      ]
     },
     "execution_count": 124,
     "metadata": {},
     "output_type": "execute_result"
    }
   ],
   "source": [
    "#Which countries have the highest sales?\n",
    "\n",
    "top_countries = sales_by_country.sort_values(ascending=False)\n",
    "print(\"Top countries by sales:\")\n",
    "top_countries"
   ]
  },
  {
   "cell_type": "code",
   "execution_count": 137,
   "id": "fdfb11cb",
   "metadata": {},
   "outputs": [
    {
     "name": "stdout",
     "output_type": "stream",
     "text": [
      "Top products by sales:\n",
      "Product\n",
      "Smooth Sliky Salty      349692.0\n",
      "50% Dark Bites          341712.0\n",
      "White Choc              329147.0\n",
      "Peanut Butter Cubes     324842.0\n",
      "Eclairs                 312445.0\n",
      "99% Dark & Pure         299796.0\n",
      "85% Dark Bars           299229.0\n",
      "Organic Choco Syrup     294700.0\n",
      "Spicy Special Slims     293454.0\n",
      "Mint Chip Choco         283969.0\n",
      "Almond Choco            277536.0\n",
      "Manuka Honey Choco      275541.0\n",
      "Milk Bars               269248.0\n",
      "Raspberry Choco         264740.0\n",
      "After Nines             261331.0\n",
      "Fruit & Nut Bars        259147.0\n",
      "Drinking Coco           256655.0\n",
      "Orange Choco            256144.0\n",
      "Baker's Choco Chips     249613.0\n",
      "Choco Coated Almonds    241486.0\n",
      "Caramel Stuffed Bars    231588.0\n",
      "70% Dark Bites          211610.0\n",
      "Name: Amount, dtype: float64\n"
     ]
    }
   ],
   "source": [
    "#Which products have the highest sales?\n",
    "\n",
    "top_products = sales_by_product.sort_values(ascending=False)\n",
    "print(\"Top products by sales:\")\n",
    "print(top_products)"
   ]
  },
  {
   "cell_type": "code",
   "execution_count": 142,
   "id": "2a20f1dd",
   "metadata": {},
   "outputs": [
    {
     "name": "stdout",
     "output_type": "stream",
     "text": [
      "The top salesperson is Ches Bonnell with a total of $320901.00\n"
     ]
    }
   ],
   "source": [
    "#Which salesperson made the most sales?\n",
    "\n",
    "# Sales by salesperson\n",
    "sales_by_salesperson = df.groupby('Sales Person')['Amount'].sum()\n",
    "\n",
    "# Identifying the top salesperson\n",
    "top_salesperson = sales_by_salesperson.idxmax()\n",
    "top_salesperson_sales = sales_by_salesperson.max()\n",
    "\n",
    "print(f\"The top salesperson is {top_salesperson} with a total of ${top_salesperson_sales:.2f}\")"
   ]
  },
  {
   "cell_type": "code",
   "execution_count": 123,
   "id": "62b99216",
   "metadata": {},
   "outputs": [
    {
     "data": {
      "image/png": "[encoded data removed]",
      "text/plain": [
       "<Figure size 640x480 with 1 Axes>"
      ]
     },
     "metadata": {},
     "output_type": "display_data"
    },
    {
     "name": "stdout",
     "output_type": "stream",
     "text": [
      "Total sales by month:\n",
      "Month\n",
      "2022-01    896105.0\n",
      "2022-02    699377.0\n",
      "2022-03    749483.0\n",
      "2022-04    674051.0\n",
      "2022-05    752892.0\n",
      "2022-06    865144.0\n",
      "2022-07    803425.0\n",
      "2022-08    743148.0\n",
      "Freq: M, Name: Amount, dtype: float64\n"
     ]
    }
   ],
   "source": [
    "#Monthly sales trend analysis\n",
    "\n",
    "# Monthly sales trend (visualize)\n",
    "monthly_sales.plot(kind='line')\n",
    "plt.title('Monthly Sales Trends')\n",
    "plt.ylabel('Sales Amount ($)')\n",
    "plt.xlabel('Month')\n",
    "plt.xticks(rotation=45)\n",
    "plt.grid(True)\n",
    "plt.show()\n",
    "\n",
    "# Print total sales by month\n",
    "print(\"Total sales by month:\")\n",
    "print(monthly_sales)\n"
   ]
  },
  {
   "cell_type": "code",
   "execution_count": 122,
   "id": "2745673a",
   "metadata": {},
   "outputs": [
    {
     "name": "stdout",
     "output_type": "stream",
     "text": [
      "Average sales per product:\n",
      "Product\n",
      "Peanut Butter Cubes     6629.428571\n",
      "Mint Chip Choco         6310.422222\n",
      "Choco Coated Almonds    6191.948718\n",
      "Manuka Honey Choco      6123.133333\n",
      "99% Dark & Pure         6118.285714\n",
      "Baker's Choco Chips     6088.121951\n",
      "85% Dark Bars           5984.580000\n",
      "Smooth Sliky Salty      5926.983051\n",
      "Almond Choco            5782.000000\n",
      "50% Dark Bites          5695.200000\n",
      "White Choc              5674.948276\n",
      "Organic Choco Syrup     5667.307692\n",
      "Raspberry Choco         5515.416667\n",
      "Milk Bars               5494.857143\n",
      "Orange Choco            5449.872340\n",
      "Spicy Special Slims     5434.333333\n",
      "Caramel Stuffed Bars    5385.767442\n",
      "After Nines             5226.620000\n",
      "Eclairs                 5207.416667\n",
      "Fruit & Nut Bars        5182.940000\n",
      "70% Dark Bites          5038.333333\n",
      "Drinking Coco           4583.125000\n",
      "Name: Amount, dtype: float64\n"
     ]
    }
   ],
   "source": [
    "#Which products are the most profitable per unit sold?\n",
    "\n",
    "# Average sales per product\n",
    "avg_sales_per_product = df.groupby('Product')['Amount'].mean()\n",
    "\n",
    "# Sort products by average sales\n",
    "sorted_avg_sales = avg_sales_per_product.sort_values(ascending=False)\n",
    "print(\"Average sales per product:\")\n",
    "print(sorted_avg_sales)\n"
   ]
  },
  {
   "cell_type": "code",
   "execution_count": 149,
   "id": "56622f8e",
   "metadata": {},
   "outputs": [
    {
     "data": {
      "image/png": "[encoded data removed]",
      "text/plain": [
       "<Figure size 640x480 with 1 Axes>"
      ]
     },
     "metadata": {},
     "output_type": "display_data"
    }
   ],
   "source": [
    "#Sales distribution\n",
    "\n",
    "# Histogram of sales amounts\n",
    "df['Amount'].plot(kind='hist', bins=20, edgecolor='black')\n",
    "plt.title('Sales Amount Distribution')\n",
    "plt.xlabel('Amount ($)')\n",
    "plt.ylabel('Frequency')\n",
    "plt.show()\n"
   ]
  },
  {
   "cell_type": "code",
   "execution_count": 66,
   "id": "fa8a60fc",
   "metadata": {},
   "outputs": [
    {
     "data": {
      "text/html": [
       "<div>\n",
       "<style scoped>\n",
       "    .dataframe tbody tr th:only-of-type {\n",
       "        vertical-align: middle;\n",
       "    }\n",
       "\n",
       "    .dataframe tbody tr th {\n",
       "        vertical-align: top;\n",
       "    }\n",
       "\n",
       "    .dataframe thead th {\n",
       "        text-align: right;\n",
       "    }\n",
       "</style>\n",
       "<table border=\"1\" class=\"dataframe\">\n",
       "  <thead>\n",
       "    <tr style=\"text-align: right;\">\n",
       "      <th></th>\n",
       "      <th>Sales Person</th>\n",
       "      <th>Country</th>\n",
       "      <th>Product</th>\n",
       "      <th>Date</th>\n",
       "      <th>Amount</th>\n",
       "      <th>Boxes Shipped</th>\n",
       "    </tr>\n",
       "  </thead>\n",
       "  <tbody>\n",
       "    <tr>\n",
       "      <th>0</th>\n",
       "      <td>Jehu Rudeforth</td>\n",
       "      <td>UK</td>\n",
       "      <td>Mint Chip Choco</td>\n",
       "      <td>2022-01-04</td>\n",
       "      <td>5320.0</td>\n",
       "      <td>180</td>\n",
       "    </tr>\n",
       "    <tr>\n",
       "      <th>1</th>\n",
       "      <td>Van Tuxwell</td>\n",
       "      <td>India</td>\n",
       "      <td>85% Dark Bars</td>\n",
       "      <td>2022-08-01</td>\n",
       "      <td>7896.0</td>\n",
       "      <td>94</td>\n",
       "    </tr>\n",
       "    <tr>\n",
       "      <th>2</th>\n",
       "      <td>Gigi Bohling</td>\n",
       "      <td>India</td>\n",
       "      <td>Peanut Butter Cubes</td>\n",
       "      <td>2022-07-07</td>\n",
       "      <td>4501.0</td>\n",
       "      <td>91</td>\n",
       "    </tr>\n",
       "    <tr>\n",
       "      <th>3</th>\n",
       "      <td>Jan Morforth</td>\n",
       "      <td>Australia</td>\n",
       "      <td>Peanut Butter Cubes</td>\n",
       "      <td>2022-04-27</td>\n",
       "      <td>12726.0</td>\n",
       "      <td>342</td>\n",
       "    </tr>\n",
       "    <tr>\n",
       "      <th>4</th>\n",
       "      <td>Jehu Rudeforth</td>\n",
       "      <td>UK</td>\n",
       "      <td>Peanut Butter Cubes</td>\n",
       "      <td>2022-02-24</td>\n",
       "      <td>13685.0</td>\n",
       "      <td>184</td>\n",
       "    </tr>\n",
       "    <tr>\n",
       "      <th>...</th>\n",
       "      <td>...</td>\n",
       "      <td>...</td>\n",
       "      <td>...</td>\n",
       "      <td>...</td>\n",
       "      <td>...</td>\n",
       "      <td>...</td>\n",
       "    </tr>\n",
       "    <tr>\n",
       "      <th>1089</th>\n",
       "      <td>Karlen McCaffrey</td>\n",
       "      <td>Australia</td>\n",
       "      <td>Spicy Special Slims</td>\n",
       "      <td>2022-05-17</td>\n",
       "      <td>4410.0</td>\n",
       "      <td>323</td>\n",
       "    </tr>\n",
       "    <tr>\n",
       "      <th>1090</th>\n",
       "      <td>Jehu Rudeforth</td>\n",
       "      <td>USA</td>\n",
       "      <td>White Choc</td>\n",
       "      <td>2022-06-07</td>\n",
       "      <td>6559.0</td>\n",
       "      <td>119</td>\n",
       "    </tr>\n",
       "    <tr>\n",
       "      <th>1091</th>\n",
       "      <td>Ches Bonnell</td>\n",
       "      <td>Canada</td>\n",
       "      <td>Organic Choco Syrup</td>\n",
       "      <td>2022-07-26</td>\n",
       "      <td>574.0</td>\n",
       "      <td>217</td>\n",
       "    </tr>\n",
       "    <tr>\n",
       "      <th>1092</th>\n",
       "      <td>Dotty Strutley</td>\n",
       "      <td>India</td>\n",
       "      <td>Eclairs</td>\n",
       "      <td>2022-07-28</td>\n",
       "      <td>2086.0</td>\n",
       "      <td>384</td>\n",
       "    </tr>\n",
       "    <tr>\n",
       "      <th>1093</th>\n",
       "      <td>Karlen McCaffrey</td>\n",
       "      <td>India</td>\n",
       "      <td>70% Dark Bites</td>\n",
       "      <td>2022-05-23</td>\n",
       "      <td>5075.0</td>\n",
       "      <td>344</td>\n",
       "    </tr>\n",
       "  </tbody>\n",
       "</table>\n",
       "<p>1094 rows × 6 columns</p>\n",
       "</div>"
      ],
      "text/plain": [
       "          Sales Person    Country              Product       Date   Amount  \\\n",
       "0       Jehu Rudeforth         UK      Mint Chip Choco 2022-01-04   5320.0   \n",
       "1          Van Tuxwell      India        85% Dark Bars 2022-08-01   7896.0   \n",
       "2         Gigi Bohling      India  Peanut Butter Cubes 2022-07-07   4501.0   \n",
       "3         Jan Morforth  Australia  Peanut Butter Cubes 2022-04-27  12726.0   \n",
       "4       Jehu Rudeforth         UK  Peanut Butter Cubes 2022-02-24  13685.0   \n",
       "...                ...        ...                  ...        ...      ...   \n",
       "1089  Karlen McCaffrey  Australia  Spicy Special Slims 2022-05-17   4410.0   \n",
       "1090    Jehu Rudeforth        USA           White Choc 2022-06-07   6559.0   \n",
       "1091      Ches Bonnell     Canada  Organic Choco Syrup 2022-07-26    574.0   \n",
       "1092    Dotty Strutley      India              Eclairs 2022-07-28   2086.0   \n",
       "1093  Karlen McCaffrey      India       70% Dark Bites 2022-05-23   5075.0   \n",
       "\n",
       "      Boxes Shipped  \n",
       "0               180  \n",
       "1                94  \n",
       "2                91  \n",
       "3               342  \n",
       "4               184  \n",
       "...             ...  \n",
       "1089            323  \n",
       "1090            119  \n",
       "1091            217  \n",
       "1092            384  \n",
       "1093            344  \n",
       "\n",
       "[1094 rows x 6 columns]"
      ]
     },
     "execution_count": 66,
     "metadata": {},
     "output_type": "execute_result"
    }
   ],
   "source": [
    "df"
   ]
  }
 ],
 "metadata": {
  "kernelspec": {
   "display_name": "Python 3",
   "language": "python",
   "name": "python3"
  },
  "language_info": {
   "codemirror_mode": {
    "name": "ipython",
    "version": 3
   },
   "file_extension": ".py",
   "mimetype": "text/x-python",
   "name": "python",
   "nbconvert_exporter": "python",
   "pygments_lexer": "ipython3",
   "version": "3.13.2"
  }
 },
 "nbformat": 4,
 "nbformat_minor": 5
}
